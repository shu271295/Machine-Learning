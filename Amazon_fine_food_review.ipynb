{
 "cells": [
  {
   "cell_type": "markdown",
   "metadata": {},
   "source": [
    "# Amazon Fine Food Reviews Analysis\n",
    "Data Source: https://www.kaggle.com/snap/amazon-fine-food-reviews \n",
    "\n",
    "EDA: https://nycdatascience.com/blog/student-works/amazon-fine-foods-visualization/\n",
    "\n",
    "The Amazon Fine Food Reviews dataset consists of reviews of fine foods from Amazon.\n",
    "\n",
    "Number of reviews: 568,454\n",
    "\n",
    "Number of users: 256,059\n",
    "\n",
    "Number of products: 74,258\n",
    "\n",
    "Timespan: Oct 1999 - Oct 2012\n",
    "\n",
    "Number of Attributes/Columns in data: 10\n",
    "\n",
    "Attribute Information:\n",
    "\n",
    "Id\n",
    "\n",
    "ProductId - unique identifier for the product\n",
    "\n",
    "UserId - unqiue identifier for the user\n",
    "\n",
    "ProfileName\n",
    "\n",
    "HelpfulnessNumerator - number of users who found the review helpful\n",
    "\n",
    "HelpfulnessDenominator - number of users who indicated whether they found the review helpful or not\n",
    "\n",
    "Score - rating between 1 and 5\n",
    "\n",
    "Time - timestamp for the review\n",
    "\n",
    "Summary - brief summary of the review\n",
    "\n",
    "Text - text of the review\n",
    "\n",
    "Objective:\n",
    "Given a review, determine whether the review is positive (Rating of 4 or 5) or negative (rating of 1 or 2).\n",
    "\n",
    "\n",
    "[Q] How to determine if a review is positive or negative?\n",
    "\n",
    "[Ans] We could use the Score/Rating. A rating of 4 or 5 could be cosnidered a positive review. A review of 1 or 2 could be considered negative. A review of 3 is nuetral and ignored. This is an approximate and proxy way of determining the polarity (positivity/negativity) of a review."
   ]
  },
  {
   "cell_type": "markdown",
   "metadata": {},
   "source": [
    "# [1] Reading data\n",
    "The dataset is available in two forms\n",
    "\n",
    "1) CSV file\n",
    "\n",
    "2) SQLite Database\n",
    "\n",
    "In order to load the data, We have used the SQLITE dataset as it easier to query the data and visualise the data efficiently. \n",
    "\n",
    "Here as we only want to get the global sentiment of the recommendations (positive or negative), we will purposefully ignore all Scores equal to 3. If the score id above 3, then the recommendation wil be set to \"positive\". Otherwise, it will be set to \"negative\"."
   ]
  },
  {
   "cell_type": "code",
   "execution_count": null,
   "metadata": {
    "_cell_guid": "b1076dfc-b9ad-4769-8c92-a6c4dae69d19",
    "_uuid": "8f2839f25d086af736a60e9eeb907d3b93b6e0e5"
   },
   "outputs": [],
   "source": [
    "import warnings\n",
    "warnings.filterwarnings(\"ignore\")\n",
    "\n",
    "\n",
    "from sklearn.manifold import TSNE\n",
    "from sklearn import datasets\n",
    "\n",
    "\n",
    "import sqlite3\n",
    "import pandas as pd\n",
    "import numpy as np\n",
    "import nltk\n",
    "import string\n",
    "import matplotlib.pyplot as plt\n",
    "import seaborn as sns\n",
    "from sklearn.feature_extraction.text import TfidfTransformer\n",
    "from sklearn.feature_extraction.text import TfidfVectorizer\n",
    "\n",
    "from sklearn.feature_extraction.text import CountVectorizer\n",
    "from sklearn.metrics import confusion_matrix\n",
    "from sklearn import metrics\n",
    "from sklearn.metrics import roc_curve, auc\n",
    "from nltk.stem.porter import PorterStemmer\n",
    "\n",
    "import re #regular expression\n",
    "\n",
    "\n",
    "import string\n",
    "from nltk.corpus import stopwords\n",
    "from nltk.stem import PorterStemmer\n",
    "from nltk.stem.wordnet import WordNetLemmatizer\n",
    "\n",
    "from gensim.models import Word2Vec\n",
    "from gensim.models import KeyedVectors\n",
    "import pickle\n",
    "\n",
    "from tqdm import tqdm\n",
    "import os\n",
    "\n",
    "print(os.listdir(\"../input\"))"
   ]
  },
  {
   "cell_type": "code",
   "execution_count": null,
   "metadata": {},
   "outputs": [],
   "source": [
    "# using the SQLite Table to read data.\n",
    "con = sqlite3.connect('../input/database.sqlite')\n",
    "\n",
    "# not taking into consideration those reviews with Score=3\n",
    "filtered_data = pd.read_sql_query(\"\"\" SELECT * FROM reviews WHERE Score != 3 LIMIT 5000\"\"\", con)\n",
    "filtered_data.columns\n",
    "filtered_data.head()\n",
    "\n",
    "# Give reviews with Score>3 a positive rating, and reviews with a score<3 a negative rating.\n",
    "def partition(x):\n",
    "    if x < 3:\n",
    "        return 0\n",
    "    return 1\n",
    "\n",
    "#changing reviews with score less than 3 to be positive and vice-versa\n",
    "actualScore = filtered_data['Score']\n",
    "positiveNegative = actualScore.map(partition) \n",
    "filtered_data['Score'] = positiveNegative\n",
    "print(\"Number of data points in our data\", filtered_data.shape)\n",
    "filtered_data.head(3)"
   ]
  },
  {
   "cell_type": "code",
   "execution_count": null,
   "metadata": {},
   "outputs": [],
   "source": [
    "display = pd.read_sql_query(\"\"\"\n",
    "SELECT UserId, ProductId, ProfileName, Time, Score, Text, COUNT(*)\n",
    "FROM Reviews\n",
    "GROUP BY UserId\n",
    "HAVING COUNT(*)>1\n",
    "\"\"\", con)"
   ]
  },
  {
   "cell_type": "code",
   "execution_count": null,
   "metadata": {},
   "outputs": [],
   "source": [
    "print(display.shape)\n",
    "display.head()"
   ]
  },
  {
   "cell_type": "code",
   "execution_count": null,
   "metadata": {},
   "outputs": [],
   "source": [
    "display[display['UserId']=='AZY10LLTJ71NX']"
   ]
  },
  {
   "cell_type": "code",
   "execution_count": null,
   "metadata": {},
   "outputs": [],
   "source": [
    "display['COUNT(*)'].sum()"
   ]
  },
  {
   "cell_type": "markdown",
   "metadata": {},
   "source": [
    "# [2] Data Cleaning: Deduplication\n",
    "\n",
    "It is observed (as shown in the table below) that the reviews data had many duplicate entries. Hence it was necessary to remove duplicates in order to get unbiased results for the analysis of the data."
   ]
  },
  {
   "cell_type": "code",
   "execution_count": null,
   "metadata": {},
   "outputs": [],
   "source": [
    "display= pd.read_sql_query(\"\"\"\n",
    "SELECT *\n",
    "FROM Reviews\n",
    "WHERE Score != 3 AND UserId=\"AR5J8UI46CURR\"\n",
    "ORDER BY ProductID\n",
    "\"\"\", con)\n",
    "display.head()"
   ]
  },
  {
   "cell_type": "markdown",
   "metadata": {},
   "source": [
    "As can be seen above the same user has multiple reviews of the with the same values for HelpfulnessNumerator, HelpfulnessDenominator, Score, Time, Summary and Text  and on doing analysis it was found that <br>\n",
    "\n",
    "ProductId=B000HDOPZG was Loacker Quadratini Vanilla Wafer Cookies, 8.82-Ounce Packages (Pack of 8)<br>\n",
    "<br> \n",
    "ProductId=B000HDL1RQ was Loacker Quadratini Lemon Wafer Cookies, 8.82-Ounce Packages (Pack of 8) and so on<br>\n",
    "\n",
    "It was inferred after analysis that reviews with same parameters other than ProductId belonged to the same product just having different flavour or quantity. Hence in order to reduce redundancy it was decided to eliminate the rows having same parameters.<br>\n",
    "\n",
    "The method used for the same was that we first sort the data according to ProductId and then just keep the first similar product review and delelte the others. for eg. in the above just the review for ProductId=B000HDL1RQ remains. This method ensures that there is only one representative for each product and deduplication without sorting would lead to possibility of different representatives still existing for the same product."
   ]
  },
  {
   "cell_type": "code",
   "execution_count": null,
   "metadata": {},
   "outputs": [],
   "source": [
    "#Sorting data according to ProductId in ascending order\n",
    "sorted_data=filtered_data.sort_values('ProductId', axis=0, ascending=True, inplace=False, kind='quicksort', na_position='last')"
   ]
  },
  {
   "cell_type": "code",
   "execution_count": null,
   "metadata": {},
   "outputs": [],
   "source": [
    "#Deduplication of entries\n",
    "final=sorted_data.drop_duplicates(subset={\"UserId\",\"ProfileName\",\"Time\",\"Text\"}, keep='first', inplace=False)\n",
    "final.shape"
   ]
  },
  {
   "cell_type": "code",
   "execution_count": null,
   "metadata": {},
   "outputs": [],
   "source": [
    "#Checking to see how much % of data still remains\n",
    "(final['Id'].size*1.0)/(filtered_data['Id'].size*1.0)*100"
   ]
  },
  {
   "cell_type": "markdown",
   "metadata": {},
   "source": [
    "Observation:- It was also seen that in two rows given below the value of HelpfulnessNumerator is greater than HelpfulnessDenominator which is not practically possible hence these two rows too are removed from calcualtions"
   ]
  },
  {
   "cell_type": "code",
   "execution_count": null,
   "metadata": {},
   "outputs": [],
   "source": [
    "display= pd.read_sql_query(\"\"\"\n",
    "SELECT *\n",
    "FROM Reviews\n",
    "WHERE Score != 3 AND Id=44737 OR Id=64422\n",
    "ORDER BY ProductID\n",
    "\"\"\", con)\n",
    "\n",
    "display.head()"
   ]
  },
  {
   "cell_type": "code",
   "execution_count": null,
   "metadata": {},
   "outputs": [],
   "source": [
    "final=final[final.HelpfulnessNumerator<=final.HelpfulnessDenominator]"
   ]
  },
  {
   "cell_type": "code",
   "execution_count": null,
   "metadata": {},
   "outputs": [],
   "source": [
    "#Before starting the next phase of preprocessing lets see the number of entries left\n",
    "print(final.shape)\n",
    "\n",
    "#How many positive and negative reviews are present in our dataset?\n",
    "final['Score'].value_counts()"
   ]
  },
  {
   "cell_type": "markdown",
   "metadata": {},
   "source": [
    "# [3] Text Preprocessing\n",
    "\n",
    "Now that we have finished deduplication our data requires some preprocessing before we go on further with analysis and making the prediction model.\n",
    "\n",
    "Hence in the Preprocessing phase we do the following in the order below:-\n",
    "\n",
    "1) Begin by removing the html tags\n",
    "<br>2) Remove any punctuations or limited set of special characters like , or . or # etc.\n",
    "<br>3) Check if the word is made up of english letters and is not alpha-numeric\n",
    "<br>4) Check to see if the length of the word is greater than 2 (as it was researched that there is no adjective in 2-letters)\n",
    "<br>5) Convert the word to lowercase\n",
    "<br>6) Remove Stopwords\n",
    "<br>7) Finally Snowball Stemming the word (it was obsereved to be better than Porter Stemming)\n",
    "\n",
    "After which we collect the words used to describe positive and negative reviews"
   ]
  },
  {
   "cell_type": "code",
   "execution_count": null,
   "metadata": {},
   "outputs": [],
   "source": [
    "# printing some random reviews\n",
    "sent_0 = final['Text'].values[0]\n",
    "print(sent_0)\n",
    "print(\"=\"*50)\n",
    "\n",
    "sent_1000 = final['Text'].values[1000]\n",
    "print(sent_1000)\n",
    "print(\"=\"*50)\n",
    "\n",
    "sent_1500 = final['Text'].values[1500]\n",
    "print(sent_1500)\n",
    "print(\"=\"*50)\n",
    "\n",
    "sent_4900 = final['Text'].values[4900]\n",
    "print(sent_4900)\n",
    "print(\"=\"*50)"
   ]
  },
  {
   "cell_type": "code",
   "execution_count": null,
   "metadata": {},
   "outputs": [],
   "source": [
    "# remove urls from text python: https://stackoverflow.com/a/40823105/4084039\n",
    "sent_0 = re.sub(r\"http\\S+\", \"\", sent_0)\n",
    "sent_1000 = re.sub(r\"http\\S+\", \"\", sent_1000)\n",
    "sent_150 = re.sub(r\"http\\S+\", \"\", sent_1500)\n",
    "sent_4900 = re.sub(r\"http\\S+\", \"\", sent_4900)\n",
    "\n",
    "print(sent_0)"
   ]
  },
  {
   "cell_type": "code",
   "execution_count": null,
   "metadata": {},
   "outputs": [],
   "source": [
    "# https://stackoverflow.com/questions/16206380/python-beautifulsoup-how-to-remove-all-tags-from-an-element\n",
    "from bs4 import BeautifulSoup\n",
    "\n",
    "soup = BeautifulSoup(sent_0, 'lxml')\n",
    "text = soup.get_text()\n",
    "print(text)\n",
    "print(\"=\"*50)\n",
    "\n",
    "soup = BeautifulSoup(sent_1000, 'lxml')\n",
    "text = soup.get_text()\n",
    "print(text)\n",
    "print(\"=\"*50)\n",
    "\n",
    "soup = BeautifulSoup(sent_1500, 'lxml')\n",
    "text = soup.get_text()\n",
    "print(text)\n",
    "print(\"=\"*50)\n",
    "\n",
    "soup = BeautifulSoup(sent_4900, 'lxml')\n",
    "text = soup.get_text()\n",
    "print(text)"
   ]
  },
  {
   "cell_type": "code",
   "execution_count": null,
   "metadata": {},
   "outputs": [],
   "source": [
    "# https://stackoverflow.com/a/47091490/4084039\n",
    "import re\n",
    "\n",
    "def decontracted(phrase):\n",
    "    # specific\n",
    "    phrase = re.sub(r\"won't\", \"will not\", phrase)\n",
    "    phrase = re.sub(r\"can\\'t\", \"can not\", phrase)\n",
    "\n",
    "    # general\n",
    "    phrase = re.sub(r\"n\\'t\", \" not\", phrase)\n",
    "    phrase = re.sub(r\"\\'re\", \" are\", phrase)\n",
    "    phrase = re.sub(r\"\\'s\", \" is\", phrase)\n",
    "    phrase = re.sub(r\"\\'d\", \" would\", phrase)\n",
    "    phrase = re.sub(r\"\\'ll\", \" will\", phrase)\n",
    "    phrase = re.sub(r\"\\'t\", \" not\", phrase)\n",
    "    phrase = re.sub(r\"\\'ve\", \" have\", phrase)\n",
    "    phrase = re.sub(r\"\\'m\", \" am\", phrase)\n",
    "    return phrase"
   ]
  },
  {
   "cell_type": "code",
   "execution_count": null,
   "metadata": {},
   "outputs": [],
   "source": [
    "sent_1500 = decontracted(sent_1500)\n",
    "print(sent_1500)\n",
    "print(\"=\"*50)"
   ]
  },
  {
   "cell_type": "code",
   "execution_count": null,
   "metadata": {},
   "outputs": [],
   "source": [
    "#remove words with numbers python: https://stackoverflow.com/a/18082370/4084039\n",
    "sent_0 = re.sub(\"\\S*\\d\\S*\", \"\", sent_0).strip()\n",
    "print(sent_0)"
   ]
  },
  {
   "cell_type": "code",
   "execution_count": null,
   "metadata": {},
   "outputs": [],
   "source": [
    "#remove spacial character: https://stackoverflow.com/a/5843547/4084039\n",
    "sent_1500 = re.sub('[^A-Za-z0-9]+', ' ', sent_1500)\n",
    "print(sent_1500)"
   ]
  },
  {
   "cell_type": "code",
   "execution_count": null,
   "metadata": {},
   "outputs": [],
   "source": [
    "# https://gist.github.com/sebleier/554280\n",
    "# we are removing the words from the stop words list: 'no', 'nor', 'not'\n",
    "# <br /><br /> ==> after the above steps, we are getting \"br br\"\n",
    "# we are including them into stop words list\n",
    "# instead of <br /> if we have <br/> these tags would have revmoved in the 1st step\n",
    "\n",
    "stopwords= set(['br', 'the', 'i', 'me', 'my', 'myself', 'we', 'our', 'ours', 'ourselves', 'you', \"you're\", \"you've\",\\\n",
    "            \"you'll\", \"you'd\", 'your', 'yours', 'yourself', 'yourselves', 'he', 'him', 'his', 'himself', \\\n",
    "            'she', \"she's\", 'her', 'hers', 'herself', 'it', \"it's\", 'its', 'itself', 'they', 'them', 'their',\\\n",
    "            'theirs', 'themselves', 'what', 'which', 'who', 'whom', 'this', 'that', \"that'll\", 'these', 'those', \\\n",
    "            'am', 'is', 'are', 'was', 'were', 'be', 'been', 'being', 'have', 'has', 'had', 'having', 'do', 'does', \\\n",
    "            'did', 'doing', 'a', 'an', 'the', 'and', 'but', 'if', 'or', 'because', 'as', 'until', 'while', 'of', \\\n",
    "            'at', 'by', 'for', 'with', 'about', 'against', 'between', 'into', 'through', 'during', 'before', 'after',\\\n",
    "            'above', 'below', 'to', 'from', 'up', 'down', 'in', 'out', 'on', 'off', 'over', 'under', 'again', 'further',\\\n",
    "            'then', 'once', 'here', 'there', 'when', 'where', 'why', 'how', 'all', 'any', 'both', 'each', 'few', 'more',\\\n",
    "            'most', 'other', 'some', 'such', 'only', 'own', 'same', 'so', 'than', 'too', 'very', \\\n",
    "            's', 't', 'can', 'will', 'just', 'don', \"don't\", 'should', \"should've\", 'now', 'd', 'll', 'm', 'o', 're', \\\n",
    "            've', 'y', 'ain', 'aren', \"aren't\", 'couldn', \"couldn't\", 'didn', \"didn't\", 'doesn', \"doesn't\", 'hadn',\\\n",
    "            \"hadn't\", 'hasn', \"hasn't\", 'haven', \"haven't\", 'isn', \"isn't\", 'ma', 'mightn', \"mightn't\", 'mustn',\\\n",
    "            \"mustn't\", 'needn', \"needn't\", 'shan', \"shan't\", 'shouldn', \"shouldn't\", 'wasn', \"wasn't\", 'weren', \"weren't\", \\\n",
    "            'won', \"won't\", 'wouldn', \"wouldn't\"])"
   ]
  },
  {
   "cell_type": "code",
   "execution_count": null,
   "metadata": {},
   "outputs": [],
   "source": [
    "# Combining all the above stundents \n",
    "from tqdm import tqdm\n",
    "preprocessed_reviews = []\n",
    "# tqdm is for printing the status bar\n",
    "for sentance in tqdm(final['Text'].values):\n",
    "    sentance = re.sub(r\"http\\S+\", \"\", sentance)\n",
    "    sentance = BeautifulSoup(sentance, 'lxml').get_text()\n",
    "    sentance = decontracted(sentance)\n",
    "    sentance = re.sub(\"\\S*\\d\\S*\", \"\", sentance).strip()\n",
    "    sentance = re.sub('[^A-Za-z]+', ' ', sentance)\n",
    "    # https://gist.github.com/sebleier/554280\n",
    "    sentance = ' '.join(e.lower() for e in sentance.split() if e.lower() not in stopwords)\n",
    "    preprocessed_reviews.append(sentance.strip())"
   ]
  },
  {
   "cell_type": "code",
   "execution_count": null,
   "metadata": {},
   "outputs": [],
   "source": [
    "preprocessed_reviews[1500]"
   ]
  },
  {
   "cell_type": "markdown",
   "metadata": {},
   "source": [
    "# [4] Featurization"
   ]
  },
  {
   "cell_type": "markdown",
   "metadata": {},
   "source": [
    "# [4.1] Bag of Words (BoW)"
   ]
  },
  {
   "cell_type": "code",
   "execution_count": null,
   "metadata": {},
   "outputs": [],
   "source": [
    "# Sparse Matrix : Matrix which contains very few non-zero elements\n",
    "# We can represent Sparse Matrix in dictionary format instead of regular matrix representation to improve space complexity. => {(row,column): non-zero value}\n",
    "\n",
    "count_vect = CountVectorizer() #in scikit-learn\n",
    "count_vect.fit(preprocessed_reviews)\n",
    "print(\"some feature names \", count_vect.get_feature_names()[:10])\n",
    "print('='*50)\n",
    "\n",
    "final_counts = count_vect.transform(preprocessed_reviews)\n",
    "print(\"the type of count vectorizer \",type(final_counts))\n",
    "print(\"the shape of out text BOW vectorizer \",final_counts.get_shape())\n",
    "print(\"the number of unique words \", final_counts.get_shape()[1])"
   ]
  },
  {
   "cell_type": "markdown",
   "metadata": {},
   "source": [
    "# [4.2] Bi-Grams and n-Grams"
   ]
  },
  {
   "cell_type": "code",
   "execution_count": null,
   "metadata": {},
   "outputs": [],
   "source": [
    "#bi-gram, tri-gram and n-gram\n",
    "#removing stop words like \"not\" should be avoided before building n-grams\n",
    "# count_vect = CountVectorizer(ngram_range=(1,2))\n",
    "# please do read the CountVectorizer documentation http://scikit-learn.org/stable/modules/generated/sklearn.feature_extraction.text.CountVectorizer.html\n",
    "# you can choose these numebrs min_df=10, max_features=5000, of your choice\n",
    "count_vect = CountVectorizer(ngram_range=(1,2), min_df=10, max_features=5000)\n",
    "final_bigram_counts = count_vect.fit_transform(preprocessed_reviews)\n",
    "print(\"the type of count vectorizer \",type(final_bigram_counts))\n",
    "print(\"the shape of out text BOW vectorizer \",final_bigram_counts.get_shape())\n",
    "print(\"the number of unique words including both unigrams and bigrams \", final_bigram_counts.get_shape()[1])"
   ]
  },
  {
   "cell_type": "markdown",
   "metadata": {},
   "source": [
    "# [4.3] TF-IDF"
   ]
  },
  {
   "cell_type": "code",
   "execution_count": null,
   "metadata": {},
   "outputs": [],
   "source": [
    "tf_idf_vect = TfidfVectorizer(ngram_range=(1,2), min_df=10)\n",
    "tf_idf_vect.fit(preprocessed_reviews)\n",
    "print(\"some sample features(unique words in the corpus)\",tf_idf_vect.get_feature_names()[0:10])\n",
    "print('='*50)\n",
    "\n",
    "final_tf_idf = tf_idf_vect.transform(preprocessed_reviews)\n",
    "print(\"the type of count vectorizer \",type(final_tf_idf))\n",
    "print(\"the shape of out text TFIDF vectorizer \",final_tf_idf.get_shape())\n",
    "print(\"the number of unique words including both unigrams and bigrams \", final_tf_idf.get_shape()[1])"
   ]
  },
  {
   "cell_type": "markdown",
   "metadata": {},
   "source": [
    "# [4.4] Word2Vec(W2V)"
   ]
  },
  {
   "cell_type": "code",
   "execution_count": null,
   "metadata": {},
   "outputs": [],
   "source": [
    "# Train your own Word2Vec model using your own text corpus\n",
    "i=0\n",
    "list_of_sentance=[]\n",
    "for sentance in preprocessed_reviews:\n",
    "    list_of_sentance.append(sentance.split())"
   ]
  },
  {
   "cell_type": "code",
   "execution_count": null,
   "metadata": {},
   "outputs": [],
   "source": [
    "# Using Google News Word2Vectors\n",
    "\n",
    "# in this project we are using a pretrained model by google\n",
    "# its 3.3G file, once you load this into your memory \n",
    "# it occupies ~9Gb, so please do this step only if you have >12G of ram\n",
    "# we will provide a pickle file wich contains a dict , \n",
    "# and it contains all our courpus words as keys and  model[word] as values\n",
    "# To use this code-snippet, download \"GoogleNews-vectors-negative300.bin\" \n",
    "# from https://drive.google.com/file/d/0B7XkCwpI5KDYNlNUTTlSS21pQmM/edit\n",
    "# it's 1.9GB in size.\n",
    "\n",
    "\n",
    "# http://kavita-ganesan.com/gensim-word2vec-tutorial-starter-code/#.W17SRFAzZPY\n",
    "# you can comment this whole cell\n",
    "# or change these varible according to your need\n",
    "\n",
    "is_your_ram_gt_16g=False\n",
    "want_to_use_google_w2v = False\n",
    "want_to_train_w2v = True\n",
    "\n",
    "if want_to_train_w2v:\n",
    "    # min_count = 5 considers only words that occured atleast 5 times\n",
    "    w2v_model=Word2Vec(list_of_sentance,min_count=5,size=50, workers=4)\n",
    "    print(w2v_model.wv.most_similar('great'))\n",
    "    print('='*50)\n",
    "    print(w2v_model.wv.most_similar('worst'))\n",
    "    \n",
    "elif want_to_use_google_w2v and is_your_ram_gt_16g:\n",
    "    if os.path.isfile('GoogleNews-vectors-negative300.bin'):\n",
    "        w2v_model=KeyedVectors.load_word2vec_format('GoogleNews-vectors-negative300.bin', binary=True)\n",
    "        print(w2v_model.wv.most_similar('great'))\n",
    "        print(w2v_model.wv.most_similar('worst'))\n",
    "    else:\n",
    "        print(\"you don't have gogole's word2vec file, keep want_to_train_w2v = True, to train your own w2v \")"
   ]
  },
  {
   "cell_type": "code",
   "execution_count": null,
   "metadata": {},
   "outputs": [],
   "source": [
    "w2v_words = list(w2v_model.wv.vocab)\n",
    "print(\"number of words that occured minimum 5 times \",len(w2v_words))\n",
    "print(\"sample words \", w2v_words[0:50])"
   ]
  },
  {
   "cell_type": "markdown",
   "metadata": {},
   "source": [
    "# [4.4.1] Converting text(document) into Vectors using Avg W2V , TFIDF-W2V"
   ]
  },
  {
   "cell_type": "markdown",
   "metadata": {},
   "source": [
    "[4.4.1.1] Avg W2v"
   ]
  },
  {
   "cell_type": "code",
   "execution_count": null,
   "metadata": {},
   "outputs": [],
   "source": [
    "# average Word2Vec\n",
    "# compute average word2vec for each review.\n",
    "sent_vectors = []; # the avg-w2v for each sentence/review is stored in this list\n",
    "for sent in tqdm(list_of_sentance): # for each review/sentence\n",
    "    sent_vec = np.zeros(50) # as word vectors are of zero length 50, you might need to change this to 300 if you use google's w2v\n",
    "    cnt_words =0; # num of words with a valid vector in the sentence/review\n",
    "    for word in sent: # for each word in a review/sentence\n",
    "        if word in w2v_words:\n",
    "            vec = w2v_model.wv[word]\n",
    "            sent_vec += vec\n",
    "            cnt_words += 1\n",
    "    if cnt_words != 0:\n",
    "        sent_vec /= cnt_words\n",
    "    sent_vectors.append(sent_vec)\n",
    "print(len(sent_vectors))\n",
    "print(len(sent_vectors[0]))"
   ]
  },
  {
   "cell_type": "markdown",
   "metadata": {},
   "source": [
    "[4.4.1.2] TFIDF weighted W2V"
   ]
  },
  {
   "cell_type": "code",
   "execution_count": null,
   "metadata": {},
   "outputs": [],
   "source": [
    "# S = [\"abc def pqr\", \"def def def abc\", \"pqr pqr def\"]\n",
    "model = TfidfVectorizer()\n",
    "model.fit(preprocessed_reviews)\n",
    "# we are converting a dictionary with word as a key, and the idf as a value\n",
    "dictionary = dict(zip(model.get_feature_names(), list(model.idf_)))"
   ]
  },
  {
   "cell_type": "code",
   "execution_count": null,
   "metadata": {},
   "outputs": [],
   "source": [
    "# TF-IDF weighted Word2Vec\n",
    "tfidf_feat = model.get_feature_names() # tfidf words/col-names\n",
    "# final_tf_idf is the sparse matrix with row= sentence, col=word and cell_val = tfidf\n",
    "\n",
    "tfidf_sent_vectors = []; # the tfidf-w2v for each sentence/review is stored in this list\n",
    "row=0;\n",
    "for sent in tqdm(list_of_sentance): # for each review/sentence \n",
    "    sent_vec = np.zeros(50) # as word vectors are of zero length\n",
    "    weight_sum =0; # num of words with a valid vector in the sentence/review\n",
    "    for word in sent: # for each word in a review/sentence\n",
    "        if word in w2v_words and word in tfidf_feat:\n",
    "            vec = w2v_model.wv[word]\n",
    "#             tf_idf = tf_idf_matrix[row, tfidf_feat.index(word)]\n",
    "            # to reduce the computation we are \n",
    "            # dictionary[word] = idf value of word in whole courpus\n",
    "            # sent.count(word) = tf valeus of word in this review\n",
    "            tf_idf = dictionary[word]*(sent.count(word)/len(sent))\n",
    "            sent_vec += (vec * tf_idf)\n",
    "            weight_sum += tf_idf\n",
    "    if weight_sum != 0:\n",
    "        sent_vec /= weight_sum\n",
    "    tfidf_sent_vectors.append(sent_vec)\n",
    "    row += 1"
   ]
  },
  {
   "cell_type": "markdown",
   "metadata": {},
   "source": [
    "# [5] Applying TSNE\n",
    "\n",
    "<ol> \n",
    "    <li> you need to plot 4 tsne plots with each of these feature set\n",
    "        <ol>\n",
    "            <li>Review text, preprocessed one converted into vectors using (BOW)</li>\n",
    "            <li>Review text, preprocessed one converted into vectors using (TFIDF)</li>\n",
    "            <li>Review text, preprocessed one converted into vectors using (AVG W2v)</li>\n",
    "            <li>Review text, preprocessed one converted into vectors using (TFIDF W2v)</li>\n",
    "        </ol>\n",
    "    </li>\n",
    "    <li> <font color='blue'>Note 1: The TSNE accepts only dense matrices</font></li>\n",
    "    <li> <font color='blue'>Note 2: Consider only 5k to 6k data points </font></li>\n",
    "</ol>"
   ]
  },
  {
   "cell_type": "markdown",
   "metadata": {},
   "source": [
    "# [5.1] Applying TSNE on Text BOW Vectors"
   ]
  },
  {
   "cell_type": "code",
   "execution_count": null,
   "metadata": {},
   "outputs": [],
   "source": [
    "# Case 1 : n_components=2, perplexity=30, n_iter=1000, random_state=0\n",
    "\n",
    "#Applying t-SNE [ (d = 12997) ====> (d' = 2) ]\n",
    "tsne = TSNE(n_components=2, perplexity=30, n_iter=1000, random_state=0)\n",
    "x_bow_embedding = tsne.fit_transform(final_counts.todense()) # converting to dense matrix from sparse matrix because t-SNE takes dense matrix as input\n",
    "\n",
    "# horizental stacking the features with lbls\n",
    "tsne_on_bow = np.hstack((x_bow_embedding,np.array(final[\"Score\"]).reshape(-1,1)))\n",
    "\n",
    "\n",
    "#Creating dataframe\n",
    "df_tsne_on_bow = pd.DataFrame(data=tsne_on_bow, columns=['Dimension_x','Dimension_y','lbl'])\n",
    "\n",
    "# lbl : 0 -> bad && 1 -> good\n",
    "df_tsne_on_bow[\"lbl\"] = df_tsne_on_bow[\"lbl\"].map(lambda x: \"bad\" if x == 0 else \"good\")\n"
   ]
  },
  {
   "cell_type": "code",
   "execution_count": null,
   "metadata": {},
   "outputs": [],
   "source": [
    "#Scatter Plotting\n",
    "sns.FacetGrid(df_tsne_on_bow , hue = \"lbl\", height = 4)\\\n",
    "    .map(plt.scatter, \"Dimension_x\" , \"Dimension_y\")\\\n",
    "    .add_legend()\n",
    "plt.title(\"Scatter Plot || TSNE on Text BOW Vectors ||  Case 1 :  perplexity=30 and  n_iter=1000\\n\", fontdict={\"fontsize\" : 20})"
   ]
  },
  {
   "cell_type": "code",
   "execution_count": null,
   "metadata": {},
   "outputs": [],
   "source": [
    "# Case 2 : n_components=2, perplexity=50, n_iter=2000, random_state=0\n",
    "\n",
    "#Applying t-SNE [ (d = 12997) ====> (d' = 2) ]\n",
    "tsne = TSNE(n_components=2, perplexity=50, n_iter=2000, random_state=0)\n",
    "x_bow_embedding1 = tsne.fit_transform(final_counts.todense()) # converting to dense matrix from sparse matrix because t-SNE takes dense matrix as input\n",
    "\n",
    "# horizental stacking the features with lbls\n",
    "tsne_on_bow1 = np.hstack((x_bow_embedding1,np.array(final[\"Score\"]).reshape(-1,1)))\n",
    "\n",
    "\n",
    "#Creating dataframe\n",
    "df_tsne_on_bow1 = pd.DataFrame(data=tsne_on_bow1, columns=['Dimension_x','Dimension_y','lbl'])\n",
    "\n",
    "# lbl : 0 -> bad && 1 -> good\n",
    "df_tsne_on_bow1[\"lbl\"] = df_tsne_on_bow1[\"lbl\"].map(lambda x: \"bad\" if x == 0 else \"good\")\n"
   ]
  },
  {
   "cell_type": "code",
   "execution_count": null,
   "metadata": {},
   "outputs": [],
   "source": [
    "#Scatter Plotting\n",
    "sns.FacetGrid(df_tsne_on_bow1 , hue = \"lbl\", height = 4)\\\n",
    "    .map(plt.scatter, \"Dimension_x\" , \"Dimension_y\")\\\n",
    "    .add_legend()\n",
    "plt.title(\"Scatter Plot || TSNE on Text BOW Vectors ||  Case 2 :  perplexity=50 and  n_iter=2000\\n\", fontdict={\"fontsize\" : 20})"
   ]
  },
  {
   "cell_type": "code",
   "execution_count": null,
   "metadata": {},
   "outputs": [],
   "source": [
    "# Case 3 : n_components=2, perplexity=50, n_iter=3000, random_state=0\n",
    "\n",
    "#Applying t-SNE [ (d = 12997) ====> (d' = 2) ]\n",
    "tsne = TSNE(n_components=2, perplexity=50, n_iter=3000, random_state=0)\n",
    "x_bow_embedding2 = tsne.fit_transform(final_counts.todense()) # converting to dense matrix from sparse matrix because t-SNE takes dense matrix as input\n",
    "\n",
    "# horizental stacking the features with lbls\n",
    "tsne_on_bow2 = np.hstack((x_bow_embedding2,np.array(final[\"Score\"]).reshape(-1,1)))\n",
    "\n",
    "\n",
    "#Creating dataframe\n",
    "df_tsne_on_bow2 = pd.DataFrame(data=tsne_on_bow2, columns=['Dimension_x','Dimension_y','lbl'])\n",
    "\n",
    "# lbl : 0 -> bad && 1 -> good\n",
    "df_tsne_on_bow2[\"lbl\"] = df_tsne_on_bow2[\"lbl\"].map(lambda x: \"bad\" if x == 0 else \"good\")\n"
   ]
  },
  {
   "cell_type": "code",
   "execution_count": null,
   "metadata": {},
   "outputs": [],
   "source": [
    "#Scatter Plotting\n",
    "sns.FacetGrid(df_tsne_on_bow2 , hue = \"lbl\", height = 4)\\\n",
    "    .map(plt.scatter, \"Dimension_x\" , \"Dimension_y\")\\\n",
    "    .add_legend()\n",
    "plt.title(\"Scatter Plot || TSNE on Text BOW Vectors ||  Case 3 :  perplexity=50 and  n_iter=3000\\n\", fontdict={\"fontsize\" : 20})"
   ]
  },
  {
   "cell_type": "markdown",
   "metadata": {},
   "source": [
    "# [5.2] Applying T-SNE on Text TFIDF Vectors"
   ]
  },
  {
   "cell_type": "code",
   "execution_count": null,
   "metadata": {},
   "outputs": [],
   "source": [
    "# Case 1 : n_components=2, perplexity=30, n_iter=1000, random_state=0\n",
    "\n",
    "#Applying t-SNE [ (d = 3144) ====> (d' = 2) ]\n",
    "tsne = TSNE(n_components=2, perplexity=30, n_iter=1000, random_state=0)\n",
    "x_tfidf_embedding = tsne.fit_transform(final_tf_idf.todense())\n",
    "\n",
    "# horizental stacking the features with lbls\n",
    "tsne_on_tfidf = np.hstack((x_tfidf_embedding,np.array(final[\"Score\"]).reshape(-1,1)))\n",
    "\n",
    "\n",
    "#Creating dataframe\n",
    "df_tsne_on_tfidf = pd.DataFrame(data=tsne_on_tfidf, columns=['Dimension_x','Dimension_y','lbl'])\n",
    "\n",
    "# lbl : 0 -> bad && 1 -> good\n",
    "df_tsne_on_tfidf[\"lbl\"] = df_tsne_on_tfidf[\"lbl\"].map(lambda x: \"bad\" if x == 0 else \"good\")\n"
   ]
  },
  {
   "cell_type": "code",
   "execution_count": null,
   "metadata": {},
   "outputs": [],
   "source": [
    "#Scatter Plotting\n",
    "sns.FacetGrid(df_tsne_on_tfidf , hue = \"lbl\", height = 4)\\\n",
    "    .map(plt.scatter, \"Dimension_x\" , \"Dimension_y\")\\\n",
    "    .add_legend()\n",
    "plt.title(\"Scatter Plot || TSNE on Text TF-IDF Vectors ||  Case 1 :  perplexity=30 and  n_iter=1000\\n\", fontdict={\"fontsize\" : 20})"
   ]
  },
  {
   "cell_type": "code",
   "execution_count": null,
   "metadata": {},
   "outputs": [],
   "source": [
    "# Case 2 : n_components=2, perplexity=50, n_iter=2000, random_state=0\n",
    "\n",
    "#Applying t-SNE [ (d = 3144) ====> (d' = 2) ]\n",
    "tsne = TSNE(n_components=2, perplexity=50, n_iter=2000, random_state=0)\n",
    "x_tfidf_embedding1 = tsne.fit_transform(final_tf_idf.todense())\n",
    "\n",
    "# horizental stacking the features with lbls\n",
    "tsne_on_tfidf1 = np.hstack((x_tfidf_embedding1,np.array(final[\"Score\"]).reshape(-1,1)))\n",
    "\n",
    "\n",
    "#Creating dataframe\n",
    "df_tsne_on_tfidf1 = pd.DataFrame(data=tsne_on_tfidf1, columns=['Dimension_x','Dimension_y','lbl'])\n",
    "\n",
    "# lbl : 0 -> bad && 1 -> good\n",
    "df_tsne_on_tfidf1[\"lbl\"] = df_tsne_on_tfidf1[\"lbl\"].map(lambda x: \"bad\" if x == 0 else \"good\")\n"
   ]
  },
  {
   "cell_type": "code",
   "execution_count": null,
   "metadata": {},
   "outputs": [],
   "source": [
    "#Scatter Plotting\n",
    "sns.FacetGrid(df_tsne_on_tfidf1 , hue = \"lbl\", height = 4)\\\n",
    "    .map(plt.scatter, \"Dimension_x\" , \"Dimension_y\")\\\n",
    "    .add_legend()\n",
    "plt.title(\"Scatter Plot || TSNE on Text TF-IDF Vectors ||  Case 2 :  perplexity=50 and  n_iter=2000\\n\", fontdict={\"fontsize\" : 20})"
   ]
  },
  {
   "cell_type": "code",
   "execution_count": null,
   "metadata": {},
   "outputs": [],
   "source": [
    "# Case 3 : n_components=2, perplexity=50, n_iter=3000, random_state=0\n",
    "\n",
    "#Applying t-SNE [ (d = 3144) ====> (d' = 2) ]\n",
    "tsne = TSNE(n_components=2, perplexity=50, n_iter=3000, random_state=0)\n",
    "x_tfidf_embedding2 = tsne.fit_transform(final_tf_idf.todense())\n",
    "\n",
    "# horizental stacking the features with lbls\n",
    "tsne_on_tfidf2 = np.hstack((x_tfidf_embedding2,np.array(final[\"Score\"]).reshape(-1,1)))\n",
    "\n",
    "\n",
    "#Creating dataframe\n",
    "df_tsne_on_tfidf2 = pd.DataFrame(data=tsne_on_tfidf2, columns=['Dimension_x','Dimension_y','lbl'])\n",
    "\n",
    "# lbl : 0 -> bad && 1 -> good\n",
    "df_tsne_on_tfidf2[\"lbl\"] = df_tsne_on_tfidf2[\"lbl\"].map(lambda x: \"bad\" if x == 0 else \"good\")"
   ]
  },
  {
   "cell_type": "code",
   "execution_count": null,
   "metadata": {},
   "outputs": [],
   "source": [
    "#Scatter Plotting\n",
    "sns.FacetGrid(df_tsne_on_tfidf2 , hue = \"lbl\", height = 4)\\\n",
    "    .map(plt.scatter, \"Dimension_x\" , \"Dimension_y\")\\\n",
    "    .add_legend()\n",
    "plt.title(\"Scatter Plot || TSNE on Text TF-IDF Vectors ||  Case 3 :  perplexity=50 and  n_iter=3000\\n\", fontdict={\"fontsize\" : 20})"
   ]
  },
  {
   "cell_type": "markdown",
   "metadata": {},
   "source": [
    "# [5.3] Applying T-SNE on Text Avg-W2V Vectors"
   ]
  },
  {
   "cell_type": "code",
   "execution_count": null,
   "metadata": {},
   "outputs": [],
   "source": [
    "# Case 1 : n_components=2, perplexity=30, n_iter=1000, random_state=0\n",
    "\n",
    "#Applying t-SNE [ (d = 50) ====> (d' = 2) ]\n",
    "tsne = TSNE(n_components=2, perplexity=30, n_iter=1000, random_state=0)\n",
    "x_avg_w2v_embedding = tsne.fit_transform(np.matrix(sent_vectors)) # converting 2-d list to numpy matrix\n",
    "\n",
    "# horizental stacking the features with lbls\n",
    "tsne_on_avg_w2v = np.hstack((x_avg_w2v_embedding, np.array(final[\"Score\"]).reshape(-1,1)))\n",
    "\n",
    "\n",
    "#Creating dataframe\n",
    "df_tsne_on_avg_w2v = pd.DataFrame(data=tsne_on_avg_w2v, columns=['Dimension_x','Dimension_y','lbl'])\n",
    "\n",
    "# lbl : 0 -> bad && 1 -> good\n",
    "df_tsne_on_avg_w2v[\"lbl\"] = df_tsne_on_avg_w2v[\"lbl\"].map(lambda x: \"bad\" if x == 0 else \"good\")\n"
   ]
  },
  {
   "cell_type": "code",
   "execution_count": null,
   "metadata": {},
   "outputs": [],
   "source": [
    "#Scatter Plotting\n",
    "sns.FacetGrid(df_tsne_on_avg_w2v , hue = \"lbl\", height = 4)\\\n",
    "    .map(plt.scatter, \"Dimension_x\" , \"Dimension_y\")\\\n",
    "    .add_legend()\n",
    "plt.title(\"Scatter Plot || TSNE on Text Avg-W2V Vectors ||  Case 1 :  perplexity=30 and  n_iter=1000\\n\", fontdict={\"fontsize\" : 20})"
   ]
  },
  {
   "cell_type": "code",
   "execution_count": null,
   "metadata": {},
   "outputs": [],
   "source": [
    "# Case 2 : n_components=2, perplexity=50, n_iter=2000, random_state=0\n",
    "\n",
    "#Applying t-SNE [ (d = 50) ====> (d' = 2) ]\n",
    "tsne = TSNE(n_components=2, perplexity=50, n_iter=2000, random_state=0)\n",
    "x_avg_w2v_embedding1 = tsne.fit_transform(np.matrix(sent_vectors))\n",
    "\n",
    "# horizental stacking the features with lbls\n",
    "tsne_on_avg_w2v1 = np.hstack((x_avg_w2v_embedding1, np.array(final[\"Score\"]).reshape(-1,1)))\n",
    "\n",
    "\n",
    "#Creating dataframe\n",
    "df_tsne_on_avg_w2v1 = pd.DataFrame(data=tsne_on_avg_w2v1, columns=['Dimension_x','Dimension_y','lbl'])\n",
    "\n",
    "# lbl : 0 -> bad && 1 -> good\n",
    "df_tsne_on_avg_w2v1[\"lbl\"] = df_tsne_on_avg_w2v1[\"lbl\"].map(lambda x: \"bad\" if x == 0 else \"good\")\n"
   ]
  },
  {
   "cell_type": "code",
   "execution_count": null,
   "metadata": {},
   "outputs": [],
   "source": [
    "#Scatter Plotting\n",
    "sns.FacetGrid(df_tsne_on_avg_w2v1 , hue = \"lbl\", height = 4)\\\n",
    "    .map(plt.scatter, \"Dimension_x\" , \"Dimension_y\")\\\n",
    "    .add_legend()\n",
    "plt.title(\"Scatter Plot || TSNE on Text Avg-W2V Vectors ||  Case 2 :  perplexity=50 and  n_iter=2000\\n\", fontdict={\"fontsize\" : 20})"
   ]
  },
  {
   "cell_type": "code",
   "execution_count": null,
   "metadata": {},
   "outputs": [],
   "source": [
    "# Case 3 : n_components=2, perplexity=50, n_iter=3000, random_state=0\n",
    "\n",
    "#Applying t-SNE [ (d = 50) ====> (d' = 2) ]\n",
    "tsne = TSNE(n_components=2, perplexity=50, n_iter=3000, random_state=0)\n",
    "x_avg_w2v_embedding2 = tsne.fit_transform(np.matrix(sent_vectors))\n",
    "\n",
    "# horizental stacking the features with lbls\n",
    "tsne_on_avg_w2v2 = np.hstack((x_avg_w2v_embedding2, np.array(final[\"Score\"]).reshape(-1,1)))\n",
    "\n",
    "\n",
    "#Creating dataframe\n",
    "df_tsne_on_avg_w2v2 = pd.DataFrame(data=tsne_on_avg_w2v2, columns=['Dimension_x','Dimension_y','lbl'])\n",
    "\n",
    "# lbl : 0 -> bad && 1 -> good\n",
    "df_tsne_on_avg_w2v2[\"lbl\"] = df_tsne_on_avg_w2v2[\"lbl\"].map(lambda x: \"bad\" if x == 0 else \"good\")\n"
   ]
  },
  {
   "cell_type": "code",
   "execution_count": null,
   "metadata": {},
   "outputs": [],
   "source": [
    "#Scatter Plotting\n",
    "sns.FacetGrid(df_tsne_on_avg_w2v2 , hue = \"lbl\", height = 4)\\\n",
    "    .map(plt.scatter, \"Dimension_x\" , \"Dimension_y\")\\\n",
    "    .add_legend()\n",
    "plt.title(\"Scatter Plot || TSNE on Text Avg-W2V Vectors ||  Case 3 :  perplexity=50 and  n_iter=3000\\n\", fontdict={\"fontsize\" : 20})"
   ]
  },
  {
   "cell_type": "markdown",
   "metadata": {},
   "source": [
    "# [5.4] Applying TSNE on Text TFIDF-weighted W2V Vectors"
   ]
  },
  {
   "cell_type": "code",
   "execution_count": null,
   "metadata": {},
   "outputs": [],
   "source": [
    "# Case 1: n_components=2, perplexity=30, n_iter=1000, random_state=0\n",
    "\n",
    "#Applying t-SNE [ (d = 50) ====> (d' = 2) ]\n",
    "tsne = TSNE(n_components=2, perplexity=30, n_iter=1000, random_state=0)\n",
    "x_tfidf_w2v_embedding = tsne.fit_transform(np.matrix(tfidf_sent_vectors)) # Converting 2-d list to numpy matrix\n",
    "\n",
    "# horizental stacking the features with lbls\n",
    "tsne_on_tfidf_w2v = np.hstack((x_tfidf_w2v_embedding, np.array(final[\"Score\"]).reshape(-1,1)))\n",
    "\n",
    "\n",
    "#Creating dataframe\n",
    "df_tsne_on_tfidf_w2v = pd.DataFrame(data=tsne_on_tfidf_w2v, columns=['Dimension_x','Dimension_y','lbl'])\n",
    "\n",
    "# lbl : 0 -> bad && 1 -> good\n",
    "df_tsne_on_tfidf_w2v[\"lbl\"] = df_tsne_on_tfidf_w2v[\"lbl\"].map(lambda x: \"bad\" if x == 0 else \"good\")\n"
   ]
  },
  {
   "cell_type": "code",
   "execution_count": null,
   "metadata": {},
   "outputs": [],
   "source": [
    "#Scatter Plotting\n",
    "sns.FacetGrid(df_tsne_on_tfidf_w2v , hue = \"lbl\", height = 4)\\\n",
    "    .map(plt.scatter, \"Dimension_x\" , \"Dimension_y\")\\\n",
    "    .add_legend()\n",
    "plt.title(\"Scatter Plot || TSNE on Text tfidf-Weighted W2V Vectors ||  Case 1 :  perplexity=30 and  n_iter=1000\\n\", fontdict={\"fontsize\" : 20})"
   ]
  },
  {
   "cell_type": "code",
   "execution_count": null,
   "metadata": {},
   "outputs": [],
   "source": [
    "# Case 2: n_components=2, perplexity=50, n_iter=2000, random_state=0\n",
    "\n",
    "#Applying t-SNE [ (d = 50) ====> (d' = 2) ]\n",
    "tsne = TSNE(n_components=2, perplexity=50, n_iter=2000, random_state=0)\n",
    "x_tfidf_w2v_embedding1 = tsne.fit_transform(np.matrix(tfidf_sent_vectors))\n",
    "\n",
    "# horizental stacking the features with lbls\n",
    "tsne_on_tfidf_w2v1 = np.hstack((x_tfidf_w2v_embedding1, np.array(final[\"Score\"]).reshape(-1,1)))\n",
    "\n",
    "\n",
    "#Creating dataframe\n",
    "df_tsne_on_tfidf_w2v1 = pd.DataFrame(data=tsne_on_tfidf_w2v1, columns=['Dimension_x','Dimension_y','lbl'])\n",
    "\n",
    "# lbl : 0 -> bad && 1 -> good\n",
    "df_tsne_on_tfidf_w2v1[\"lbl\"] = df_tsne_on_tfidf_w2v1[\"lbl\"].map(lambda x: \"bad\" if x == 0 else \"good\")\n"
   ]
  },
  {
   "cell_type": "code",
   "execution_count": null,
   "metadata": {},
   "outputs": [],
   "source": [
    "#Scatter Plotting\n",
    "sns.FacetGrid(df_tsne_on_tfidf_w2v1 , hue = \"lbl\", height = 4)\\\n",
    "    .map(plt.scatter, \"Dimension_x\" , \"Dimension_y\")\\\n",
    "    .add_legend()\n",
    "plt.title(\"Scatter Plot || TSNE on Text tfidf-Weighted W2V Vectors ||  Case 2 :  perplexity=50 and  n_iter=2000\\n\", fontdict={\"fontsize\" : 20})"
   ]
  },
  {
   "cell_type": "code",
   "execution_count": null,
   "metadata": {},
   "outputs": [],
   "source": [
    "# Case 3: n_components=2, perplexity=50, n_iter=3000, random_state=0\n",
    "\n",
    "#Applying t-SNE [ (d = 50) ====> (d' = 2) ]\n",
    "tsne = TSNE(n_components=2, perplexity=50, n_iter=3000, random_state=0)\n",
    "x_tfidf_w2v_embedding2 = tsne.fit_transform(np.matrix(tfidf_sent_vectors))\n",
    "\n",
    "# horizental stacking the features with lbls\n",
    "tsne_on_tfidf_w2v2 = np.hstack((x_tfidf_w2v_embedding2, np.array(final[\"Score\"]).reshape(-1,1)))\n",
    "\n",
    "\n",
    "#Creating dataframe\n",
    "df_tsne_on_tfidf_w2v2 = pd.DataFrame(data=tsne_on_tfidf_w2v2, columns=['Dimension_x','Dimension_y','lbl'])\n",
    "\n",
    "# lbl : 0 -> bad && 1 -> good\n",
    "df_tsne_on_tfidf_w2v2[\"lbl\"] = df_tsne_on_tfidf_w2v2[\"lbl\"].map(lambda x: \"bad\" if x == 0 else \"good\")\n"
   ]
  },
  {
   "cell_type": "code",
   "execution_count": null,
   "metadata": {},
   "outputs": [],
   "source": [
    "#Scatter Plotting\n",
    "sns.FacetGrid(df_tsne_on_tfidf_w2v2 , hue = \"lbl\", height = 4)\\\n",
    "    .map(plt.scatter, \"Dimension_x\" , \"Dimension_y\")\\\n",
    "    .add_legend()\n",
    "plt.title(\"Scatter Plot || TSNE on Text tfidf-Weighted W2V Vectors ||  Case 3 :  perplexity=50 and  n_iter=3000\\n\", fontdict={\"fontsize\" : 20})"
   ]
  }
 ],
 "metadata": {
  "kernelspec": {
   "display_name": "Python 3",
   "language": "python",
   "name": "python3"
  },
  "language_info": {
   "codemirror_mode": {
    "name": "ipython",
    "version": 3
   },
   "file_extension": ".py",
   "mimetype": "text/x-python",
   "name": "python",
   "nbconvert_exporter": "python",
   "pygments_lexer": "ipython3",
   "version": "3.6.6"
  }
 },
 "nbformat": 4,
 "nbformat_minor": 1
}
